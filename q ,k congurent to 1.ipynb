{
 "cells": [
  {
   "cell_type": "code",
   "execution_count": 1,
   "metadata": {},
   "outputs": [
    {
     "data": {
      "text/plain": [
       "2"
      ]
     },
     "execution_count": 1,
     "metadata": {},
     "output_type": "execute_result"
    }
   ],
   "source": [
    "sage: a = 13\n",
    "sage: b = 37*11\n",
    "sage: x = PolynomialRing(RationalField(), 'x').gen()\n",
    "sage: f =(x^2 - a)*(x^2-b)\n",
    "sage: R.<x> = PolynomialRing(QQ)\n",
    "sage: K.<a> = (f).splitting_field(); K\n",
    "sage: K.class_number()"
   ]
  },
  {
   "cell_type": "code",
   "execution_count": 2,
   "metadata": {},
   "outputs": [
    {
     "data": {
      "text/plain": [
       "2"
      ]
     },
     "execution_count": 2,
     "metadata": {},
     "output_type": "execute_result"
    }
   ],
   "source": [
    "sage: a = 13\n",
    "sage: b = 41*11\n",
    "sage: x = PolynomialRing(RationalField(), 'x').gen()\n",
    "sage: f =(x^2 - a)*(x^2-b)\n",
    "sage: R.<x> = PolynomialRing(QQ)\n",
    "sage: K.<a> = (f).splitting_field(); K\n",
    "sage: K.class_number()"
   ]
  },
  {
   "cell_type": "code",
   "execution_count": 3,
   "metadata": {},
   "outputs": [
    {
     "data": {
      "text/plain": [
       "2"
      ]
     },
     "execution_count": 3,
     "metadata": {},
     "output_type": "execute_result"
    }
   ],
   "source": [
    "sage: a = 37\n",
    "sage: b = 13*11\n",
    "sage: x = PolynomialRing(RationalField(), 'x').gen()\n",
    "sage: f =(x^2 - a)*(x^2-b)\n",
    "sage: R.<x> = PolynomialRing(QQ)\n",
    "sage: K.<a> = (f).splitting_field(); K\n",
    "sage: K.class_number()"
   ]
  },
  {
   "cell_type": "code",
   "execution_count": 4,
   "metadata": {},
   "outputs": [
    {
     "data": {
      "text/plain": [
       "2"
      ]
     },
     "execution_count": 4,
     "metadata": {},
     "output_type": "execute_result"
    }
   ],
   "source": [
    "sage: a = 37\n",
    "sage: b =29*11\n",
    "sage: x = PolynomialRing(RationalField(), 'x').gen()\n",
    "sage: f =(x^2 - a)*(x^2-b)\n",
    "sage: R.<x> = PolynomialRing(QQ)\n",
    "sage: K.<a> = (f).splitting_field(); K\n",
    "sage: K.class_number()"
   ]
  },
  {
   "cell_type": "code",
   "execution_count": 5,
   "metadata": {},
   "outputs": [
    {
     "data": {
      "text/plain": [
       "2"
      ]
     },
     "execution_count": 5,
     "metadata": {},
     "output_type": "execute_result"
    }
   ],
   "source": [
    "sage: a = 37\n",
    "sage: b = 61*11\n",
    "sage: x = PolynomialRing(RationalField(), 'x').gen()\n",
    "sage: f =(x^2 - a)*(x^2-b)\n",
    "sage: R.<x> = PolynomialRing(QQ)\n",
    "sage: K.<a> = (f).splitting_field(); K\n",
    "sage: K.class_number()"
   ]
  },
  {
   "cell_type": "code",
   "execution_count": 6,
   "metadata": {},
   "outputs": [
    {
     "data": {
      "text/plain": [
       "2"
      ]
     },
     "execution_count": 6,
     "metadata": {},
     "output_type": "execute_result"
    }
   ],
   "source": [
    "sage: a = 37\n",
    "sage: b = 109*11\n",
    "sage: x = PolynomialRing(RationalField(), 'x').gen()\n",
    "sage: f =(x^2 - a)*(x^2-b)\n",
    "sage: R.<x> = PolynomialRing(QQ)\n",
    "sage: K.<a> = (f).splitting_field(); K\n",
    "sage: K.class_number()"
   ]
  },
  {
   "cell_type": "code",
   "execution_count": 7,
   "metadata": {},
   "outputs": [
    {
     "data": {
      "text/plain": [
       "2"
      ]
     },
     "execution_count": 7,
     "metadata": {},
     "output_type": "execute_result"
    }
   ],
   "source": [
    "sage: a = 37\n",
    "sage: b = 139*11\n",
    "sage: x = PolynomialRing(RationalField(), 'x').gen()\n",
    "sage: f =(x^2 - a)*(x^2-b)\n",
    "sage: R.<x> = PolynomialRing(QQ)\n",
    "sage: K.<a> = (f).splitting_field(); K\n",
    "sage: K.class_number()"
   ]
  },
  {
   "cell_type": "code",
   "execution_count": 8,
   "metadata": {},
   "outputs": [
    {
     "data": {
      "text/plain": [
       "2"
      ]
     },
     "execution_count": 8,
     "metadata": {},
     "output_type": "execute_result"
    }
   ],
   "source": [
    "sage: a = 37\n",
    "sage: b = 151*11\n",
    "sage: x = PolynomialRing(RationalField(), 'x').gen()\n",
    "sage: f =(x^2 - a)*(x^2-b)\n",
    "sage: R.<x> = PolynomialRing(QQ)\n",
    "sage: K.<a> = (f).splitting_field(); K\n",
    "sage: K.class_number()"
   ]
  },
  {
   "cell_type": "code",
   "execution_count": null,
   "metadata": {},
   "outputs": [],
   "source": []
  }
 ],
 "metadata": {
  "kernelspec": {
   "display_name": "SageMath 8.8",
   "language": "sage",
   "name": "sagemath"
  },
  "language_info": {
   "codemirror_mode": {
    "name": "ipython",
    "version": 2
   },
   "file_extension": ".py",
   "mimetype": "text/x-python",
   "name": "python",
   "nbconvert_exporter": "python",
   "pygments_lexer": "ipython2",
   "version": "2.7.15"
  }
 },
 "nbformat": 4,
 "nbformat_minor": 2
}

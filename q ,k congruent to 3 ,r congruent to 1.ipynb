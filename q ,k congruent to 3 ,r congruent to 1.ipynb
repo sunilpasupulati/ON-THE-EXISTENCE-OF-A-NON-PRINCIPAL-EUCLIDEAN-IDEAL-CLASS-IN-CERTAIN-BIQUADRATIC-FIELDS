{
 "cells": [
  {
   "cell_type": "code",
   "execution_count": 3,
   "metadata": {},
   "outputs": [
    {
     "data": {
      "text/plain": [
       "2"
      ]
     },
     "execution_count": 3,
     "metadata": {},
     "output_type": "execute_result"
    }
   ],
   "source": [
    "sage: a = 11\n",
    "sage: b = 19*13\n",
    "sage: x = PolynomialRing(RationalField(), 'x').gen()\n",
    "sage: f =(x^2 - a)*(x^2-b)\n",
    "sage: R.<x> = PolynomialRing(QQ)\n",
    "sage: K.<a> = (f).splitting_field(); K\n",
    "sage: K.class_number()"
   ]
  },
  {
   "cell_type": "code",
   "execution_count": 9,
   "metadata": {},
   "outputs": [
    {
     "data": {
      "text/plain": [
       "2"
      ]
     },
     "execution_count": 9,
     "metadata": {},
     "output_type": "execute_result"
    }
   ],
   "source": [
    "sage: a = 11\n",
    "sage: b = 23*13\n",
    "sage: x = PolynomialRing(RationalField(), 'x').gen()\n",
    "sage: f =(x^2 - a)*(x^2-b)\n",
    "sage: R.<x> = PolynomialRing(QQ)\n",
    "sage: K.<a> = (f).splitting_field(); K\n",
    "sage: K.class_number()"
   ]
  },
  {
   "cell_type": "code",
   "execution_count": 12,
   "metadata": {},
   "outputs": [
    {
     "data": {
      "text/plain": [
       "2"
      ]
     },
     "execution_count": 12,
     "metadata": {},
     "output_type": "execute_result"
    }
   ],
   "source": [
    "sage: a = 11\n",
    "sage: b = 31*13\n",
    "sage: x = PolynomialRing(RationalField(), 'x').gen()\n",
    "sage: f =(x^2 - a)*(x^2-b)\n",
    "sage: R.<x> = PolynomialRing(QQ)\n",
    "sage: K.<a> = (f).splitting_field(); K\n",
    "sage: K.class_number()"
   ]
  },
  {
   "cell_type": "code",
   "execution_count": 14,
   "metadata": {},
   "outputs": [
    {
     "data": {
      "text/plain": [
       "2"
      ]
     },
     "execution_count": 14,
     "metadata": {},
     "output_type": "execute_result"
    }
   ],
   "source": [
    "sage: a = 11\n",
    "sage: b = 43*13\n",
    "sage: x = PolynomialRing(RationalField(), 'x').gen()\n",
    "sage: f =(x^2 - a)*(x^2-b)\n",
    "sage: R.<x> = PolynomialRing(QQ)\n",
    "sage: K.<a> = (f).splitting_field(); K\n",
    "sage: K.class_number()"
   ]
  },
  {
   "cell_type": "code",
   "execution_count": 22,
   "metadata": {},
   "outputs": [
    {
     "data": {
      "text/plain": [
       "2"
      ]
     },
     "execution_count": 22,
     "metadata": {},
     "output_type": "execute_result"
    }
   ],
   "source": [
    "sage: a = 11\n",
    "sage: b = 43*13\n",
    "sage: x = PolynomialRing(RationalField(), 'x').gen()\n",
    "sage: f =(x^2 - a)*(x^2-b)\n",
    "sage: R.<x> = PolynomialRing(QQ)\n",
    "sage: K.<a> = (f).splitting_field(); K\n",
    "sage: K.class_number()"
   ]
  },
  {
   "cell_type": "code",
   "execution_count": 17,
   "metadata": {},
   "outputs": [
    {
     "data": {
      "text/plain": [
       "2"
      ]
     },
     "execution_count": 17,
     "metadata": {},
     "output_type": "execute_result"
    }
   ],
   "source": [
    "sage: a = 11\n",
    "sage: b = 47*13\n",
    "sage: x = PolynomialRing(RationalField(), 'x').gen()\n",
    "sage: f =(x^2 - a)*(x^2-b)\n",
    "sage: R.<x> = PolynomialRing(QQ)\n",
    "sage: K.<a> = (f).splitting_field(); K\n",
    "sage: K.class_number()"
   ]
  },
  {
   "cell_type": "code",
   "execution_count": 21,
   "metadata": {},
   "outputs": [
    {
     "data": {
      "text/plain": [
       "2"
      ]
     },
     "execution_count": 21,
     "metadata": {},
     "output_type": "execute_result"
    }
   ],
   "source": [
    "sage: a = 11\n",
    "sage: b = 59*13\n",
    "sage: x = PolynomialRing(RationalField(), 'x').gen()\n",
    "sage: f =(x^2 - a)*(x^2-b)\n",
    "sage: R.<x> = PolynomialRing(QQ)\n",
    "sage: K.<a> = (f).splitting_field(); K\n",
    "sage: K.class_number()"
   ]
  },
  {
   "cell_type": "code",
   "execution_count": 20,
   "metadata": {},
   "outputs": [
    {
     "data": {
      "text/plain": [
       "2"
      ]
     },
     "execution_count": 20,
     "metadata": {},
     "output_type": "execute_result"
    }
   ],
   "source": [
    "sage: a = 11\n",
    "sage: b = 67*13\n",
    "sage: x = PolynomialRing(RationalField(), 'x').gen()\n",
    "sage: f =(x^2 - a)*(x^2-b)\n",
    "sage: R.<x> = PolynomialRing(QQ)\n",
    "sage: K.<a> = (f).splitting_field(); K\n",
    "sage: K.class_number()"
   ]
  },
  {
   "cell_type": "code",
   "execution_count": 25,
   "metadata": {},
   "outputs": [
    {
     "data": {
      "text/plain": [
       "2"
      ]
     },
     "execution_count": 25,
     "metadata": {},
     "output_type": "execute_result"
    }
   ],
   "source": [
    "sage: a = 11\n",
    "sage: b = 71*13\n",
    "sage: x = PolynomialRing(RationalField(), 'x').gen()\n",
    "sage: f =(x^2 - a)*(x^2-b)\n",
    "sage: R.<x> = PolynomialRing(QQ)\n",
    "sage: K.<a> = (f).splitting_field(); K\n",
    "sage: K.class_number()"
   ]
  },
  {
   "cell_type": "code",
   "execution_count": null,
   "metadata": {},
   "outputs": [],
   "source": []
  },
  {
   "cell_type": "code",
   "execution_count": null,
   "metadata": {},
   "outputs": [],
   "source": []
  }
 ],
 "metadata": {
  "kernelspec": {
   "display_name": "SageMath 8.8",
   "language": "sage",
   "name": "sagemath"
  },
  "language_info": {
   "codemirror_mode": {
    "name": "ipython",
    "version": 2
   },
   "file_extension": ".py",
   "mimetype": "text/x-python",
   "name": "python",
   "nbconvert_exporter": "python",
   "pygments_lexer": "ipython2",
   "version": "2.7.15"
  }
 },
 "nbformat": 4,
 "nbformat_minor": 2
}
